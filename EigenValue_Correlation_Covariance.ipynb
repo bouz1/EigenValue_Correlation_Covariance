{
 "cells": [
  {
   "cell_type": "markdown",
   "id": "3c21032b-a135-44b1-8aae-feb470052512",
   "metadata": {},
   "source": [
    "<h1 style=\"text-align:center; font-size: 2.5em;\"> Eigenvalues / EigenVectors, Covariance, Correlation</h1>"
   ]
  },
  {
   "cell_type": "markdown",
   "id": "5e9ff323-73c9-404d-a5de-389fc4d85af3",
   "metadata": {},
   "source": [
    "# Table of contents\n",
    "1. [Introduction](#tit1)\n",
    "2. [Eigenvalues and eigenvectors ](#tit2)\n",
    "3. [Covariance](#tit3)\n",
    "3. [Correlation](#tit4)\n",
    "3. [Application with the diabetes dataset](#tit5)\n",
    "3. [Conclusion](#tit6)\n",
    "\n"
   ]
  },
  {
   "cell_type": "markdown",
   "id": "d0ae9012-abbd-40c6-8594-040e230c1d9b",
   "metadata": {},
   "source": [
    "# Introduction <a name=\"tit1\"></a> \n",
    "The goal of this netbook is to understand the definition of eigenvalue/vector, variance/covariance, the correlation.\n",
    "<br> We will make some functions to calculate this parameters and compare them with numpy/pandas functions"
   ]
  },
  {
   "cell_type": "code",
   "execution_count": 104,
   "id": "bdde4695-50a2-4d06-abe1-4db3f9ab361a",
   "metadata": {},
   "outputs": [],
   "source": [
    "# Import numpy library\n",
    "import numpy as np"
   ]
  },
  {
   "cell_type": "markdown",
   "id": "9073c5f4-c57d-4cc0-933a-960da662bba7",
   "metadata": {},
   "source": [
    "# Eigenvalues and eigenvectors <a name=\"tit2\"></a> "
   ]
  },
  {
   "cell_type": "markdown",
   "id": "2bbbdc4e-2dda-4187-b830-c2c4ab7fa0bf",
   "metadata": {},
   "source": [
    "Example of eigenvalues and eigenvectors, A is a matrix of (nxn): n=2\n"
   ]
  },
  {
   "cell_type": "code",
   "execution_count": 23,
   "id": "3f3e2095-9977-4e27-971b-ee8bdee4c8e9",
   "metadata": {},
   "outputs": [],
   "source": [
    "A=np.array([[7,3],[3,-1]])"
   ]
  },
  {
   "cell_type": "markdown",
   "id": "02128bac-f5a7-49e8-a4be-a9f12d163e98",
   "metadata": {},
   "source": [
    "The identity matrix (nxn)"
   ]
  },
  {
   "cell_type": "code",
   "execution_count": 24,
   "id": "ff9ed4d0-6b81-484c-8be9-a50423439ca7",
   "metadata": {},
   "outputs": [
    {
     "data": {
      "text/plain": [
       "array([[1., 0.],\n",
       "       [0., 1.]])"
      ]
     },
     "execution_count": 24,
     "metadata": {},
     "output_type": "execute_result"
    }
   ],
   "source": [
    "I=np.identity(len(A))\n",
    "I"
   ]
  },
  {
   "cell_type": "markdown",
   "id": "7a86f701-4134-4b5a-818a-10a50b24d3c1",
   "metadata": {},
   "source": [
    "#### Eigenvalues and eigenvectors: Numpy function"
   ]
  },
  {
   "cell_type": "code",
   "execution_count": 4,
   "id": "247e6d9d-1607-499e-a53f-32957d925649",
   "metadata": {},
   "outputs": [],
   "source": [
    "lambdas,vecs=np.linalg.eig(A)"
   ]
  },
  {
   "cell_type": "markdown",
   "id": "77cd64e6-7d36-4beb-972e-fb9b3e5b3c7e",
   "metadata": {},
   "source": [
    "### Eigenvalues"
   ]
  },
  {
   "cell_type": "markdown",
   "id": "c1493d2d-be1e-4845-89ee-6fccb39e8ec1",
   "metadata": {},
   "source": [
    "The eigenvalues of a matrix A is defined as the lambda values that verify the below equation:\n",
    "    <br>***det(A − λI)=0***"
   ]
  },
  {
   "cell_type": "code",
   "execution_count": 5,
   "id": "0ac395eb-91f1-4f71-be4b-d5282de0c371",
   "metadata": {},
   "outputs": [
    {
     "data": {
      "text/plain": [
       "array([ 8., -2.])"
      ]
     },
     "execution_count": 5,
     "metadata": {},
     "output_type": "execute_result"
    }
   ],
   "source": [
    "lambdas"
   ]
  },
  {
   "cell_type": "markdown",
   "id": "629409c2-2c75-48aa-80a7-78354a0a5cd9",
   "metadata": {},
   "source": [
    "##### The det(A)"
   ]
  },
  {
   "cell_type": "code",
   "execution_count": 29,
   "id": "87efef1e-34ef-4e35-b431-e618b865e314",
   "metadata": {},
   "outputs": [
    {
     "data": {
      "text/plain": [
       "-15.999999999999998"
      ]
     },
     "execution_count": 29,
     "metadata": {},
     "output_type": "execute_result"
    }
   ],
   "source": [
    "np.linalg.det(A)"
   ]
  },
  {
   "cell_type": "markdown",
   "id": "8c6728d8-dbd9-46a2-8def-ac8f2f07786f",
   "metadata": {},
   "source": [
    "##### The first eigenvalue"
   ]
  },
  {
   "cell_type": "code",
   "execution_count": 30,
   "id": "14b003cd-96ad-4551-ae1b-89f42fb085da",
   "metadata": {},
   "outputs": [
    {
     "data": {
      "text/plain": [
       "0.0"
      ]
     },
     "execution_count": 30,
     "metadata": {},
     "output_type": "execute_result"
    }
   ],
   "source": [
    "np.linalg.det(A-8*I)"
   ]
  },
  {
   "cell_type": "markdown",
   "id": "4a1c5079-c3a3-4e4c-abb4-7bf46318ba17",
   "metadata": {},
   "source": [
    "##### The second eigenvalue"
   ]
  },
  {
   "cell_type": "code",
   "execution_count": 31,
   "id": "3a2c12bf-fb19-4097-b68c-877e73a181cb",
   "metadata": {},
   "outputs": [
    {
     "data": {
      "text/plain": [
       "0.0"
      ]
     },
     "execution_count": 31,
     "metadata": {},
     "output_type": "execute_result"
    }
   ],
   "source": [
    "np.linalg.det(A+2*I)"
   ]
  },
  {
   "cell_type": "markdown",
   "id": "7685d3d7-0416-49b1-9de1-7f339d098d6d",
   "metadata": {},
   "source": [
    "### Eigenverctors"
   ]
  },
  {
   "cell_type": "markdown",
   "id": "2212e48e-0394-4e48-bb9c-d9586ef76328",
   "metadata": {},
   "source": [
    "For each eigenvalue **λ**, the eigenvector **v** is defined by the below equation"
   ]
  },
  {
   "cell_type": "markdown",
   "id": "2d2c96f5-fed7-4d47-946e-66a6f96c9e2a",
   "metadata": {},
   "source": [
    "$ {\\displaystyle \\left(A-\\lambda I\\right)\\mathbf {v} =\\mathbf {0} ,} $"
   ]
  },
  {
   "cell_type": "code",
   "execution_count": 34,
   "id": "bf694cae-c116-44fa-a63c-df16526f9fb2",
   "metadata": {},
   "outputs": [
    {
     "data": {
      "text/plain": [
       "array([[ 0.9486833 ,  0.31622777],\n",
       "       [-0.31622777,  0.9486833 ]])"
      ]
     },
     "execution_count": 34,
     "metadata": {},
     "output_type": "execute_result"
    }
   ],
   "source": [
    "vecs.T"
   ]
  },
  {
   "cell_type": "markdown",
   "id": "084eba48-ab36-41d8-9508-1e748fe13925",
   "metadata": {},
   "source": [
    "##### The fist eignevector"
   ]
  },
  {
   "cell_type": "code",
   "execution_count": 20,
   "id": "0b4a2b48-5a0a-47ea-83b9-cda95684b63f",
   "metadata": {},
   "outputs": [
    {
     "data": {
      "text/plain": [
       "array([ 0.00000000e+00, -2.22044605e-16])"
      ]
     },
     "execution_count": 20,
     "metadata": {},
     "output_type": "execute_result"
    }
   ],
   "source": [
    "(A-8*I).dot(vecs.T[0])"
   ]
  },
  {
   "cell_type": "markdown",
   "id": "9859cab1-80d1-4224-a3ec-f3b8a2a7093a",
   "metadata": {},
   "source": [
    "the product is practically **0**"
   ]
  },
  {
   "cell_type": "markdown",
   "id": "837ea1ba-fa03-474e-8798-0c494c0d3229",
   "metadata": {},
   "source": [
    "##### The second eignevector"
   ]
  },
  {
   "cell_type": "code",
   "execution_count": 37,
   "id": "fc72b896-e5eb-4fa9-9b91-c5557da756e0",
   "metadata": {},
   "outputs": [
    {
     "data": {
      "text/plain": [
       "array([-3.88578059e-16, -5.55111512e-17])"
      ]
     },
     "execution_count": 37,
     "metadata": {},
     "output_type": "execute_result"
    }
   ],
   "source": [
    "(A+2*I).dot(vecs.T[1])"
   ]
  },
  {
   "cell_type": "markdown",
   "id": "6c652a8a-7c95-4ea8-a571-1ed314989a7d",
   "metadata": {},
   "source": [
    "the product is practically **0**"
   ]
  },
  {
   "cell_type": "markdown",
   "id": "15f0fd9a-3d5e-4b67-b575-b74b2aee69fe",
   "metadata": {},
   "source": [
    "For more details, please see the wikipedia page: \n",
    "   <br> https://en.wikipedia.org/wiki/Eigenvalues_and_eigenvectors"
   ]
  },
  {
   "cell_type": "markdown",
   "id": "a8e9fe75-dce0-4bdf-b80f-8ce9dbddaeaf",
   "metadata": {},
   "source": [
    "# Covariance  <a name=\"tit3\"></a> "
   ]
  },
  {
   "cell_type": "markdown",
   "id": "699ae000-52d5-4de0-9a8a-f96c5e614a98",
   "metadata": {},
   "source": [
    "The covariance of vectors ***X*** and ***Y*** is defined by the below equation: "
   ]
  },
  {
   "cell_type": "markdown",
   "id": "ce4a01fc-7be3-4974-b304-03e4f12c28da",
   "metadata": {},
   "source": [
    "$ \\operatorname {Cov}(X,Y)\\equiv \\operatorname {E}[(X-\\operatorname {E}[X])\\,(Y-\\operatorname {E}[Y])] $"
   ]
  },
  {
   "cell_type": "markdown",
   "id": "74aa6f01-6944-425f-bfec-a620ed227134",
   "metadata": {},
   "source": [
    "### Covariance of two vectors"
   ]
  },
  {
   "cell_type": "code",
   "execution_count": 39,
   "id": "2927132a-4373-4eb6-848b-ccd07df794a2",
   "metadata": {},
   "outputs": [],
   "source": [
    "def cov(x,y): \n",
    "    return ((x-x.mean())*(y-y.mean())).mean()"
   ]
  },
  {
   "cell_type": "markdown",
   "id": "c06a5c76-ea64-4c7f-b677-41f23156466f",
   "metadata": {},
   "source": [
    "We use seed to find the same random output each time"
   ]
  },
  {
   "cell_type": "markdown",
   "id": "f2fc0125-783a-439d-9586-4770e68da0d5",
   "metadata": {},
   "source": [
    "***X*** vector"
   ]
  },
  {
   "cell_type": "code",
   "execution_count": 70,
   "id": "01b213ba-7ad6-458d-98ff-429b106fad45",
   "metadata": {},
   "outputs": [
    {
     "data": {
      "text/plain": [
       "array([-0.16595599,  0.44064899, -0.99977125, -0.39533485, -0.70648822])"
      ]
     },
     "execution_count": 70,
     "metadata": {},
     "output_type": "execute_result"
    }
   ],
   "source": [
    "np.random.seed(1)\n",
    "X=np.random.uniform(-1,1,5)\n",
    "X"
   ]
  },
  {
   "cell_type": "markdown",
   "id": "e87bb7a4-48b9-4cda-aa11-26c78446ab05",
   "metadata": {},
   "source": [
    "***Y*** vector"
   ]
  },
  {
   "cell_type": "code",
   "execution_count": 71,
   "id": "de48697e-4c82-4460-9cf8-679b7d630c1b",
   "metadata": {},
   "outputs": [
    {
     "data": {
      "text/plain": [
       "array([-0.1280102 , -0.94814754,  0.09932496, -0.12935521, -0.1592644 ])"
      ]
     },
     "execution_count": 71,
     "metadata": {},
     "output_type": "execute_result"
    }
   ],
   "source": [
    "np.random.seed(2)\n",
    "Y=np.random.uniform(-1,1,5)\n",
    "Y"
   ]
  },
  {
   "cell_type": "markdown",
   "id": "b23060c6-5094-480e-9b3b-0204245cde97",
   "metadata": {},
   "source": [
    "##### The covariance of X,Y"
   ]
  },
  {
   "cell_type": "code",
   "execution_count": 72,
   "id": "c000329b-8604-4c89-a733-c0f7d9863d43",
   "metadata": {},
   "outputs": [
    {
     "data": {
      "text/plain": [
       "-0.15891454248114759"
      ]
     },
     "execution_count": 72,
     "metadata": {},
     "output_type": "execute_result"
    }
   ],
   "source": [
    "cov(X,Y)"
   ]
  },
  {
   "cell_type": "markdown",
   "id": "111a7ab9-fae2-4caa-beac-b7016d48f24f",
   "metadata": {},
   "source": [
    "##### Comparaison with numpy covariance function"
   ]
  },
  {
   "cell_type": "code",
   "execution_count": 74,
   "id": "1091674b-da2a-484c-90f0-c5f5da5246d0",
   "metadata": {},
   "outputs": [
    {
     "data": {
      "text/plain": [
       "-0.19864317810143445"
      ]
     },
     "execution_count": 74,
     "metadata": {},
     "output_type": "execute_result"
    }
   ],
   "source": [
    "np.cov(X,Y)[0][1]"
   ]
  },
  {
   "cell_type": "markdown",
   "id": "06976574-dd2d-4382-8537-fb6146e61ffc",
   "metadata": {},
   "source": [
    "The value calculated by numpy function is different, because the default numpy function use a bias correction"
   ]
  },
  {
   "cell_type": "markdown",
   "id": "b0f2ce4b-d482-448d-8674-ee1fd484404d",
   "metadata": {},
   "source": [
    "##### The covariance funciton of two vectors with the bias correction"
   ]
  },
  {
   "cell_type": "code",
   "execution_count": 52,
   "id": "738a925a-3bbb-42f5-8726-2167db2d7905",
   "metadata": {},
   "outputs": [],
   "source": [
    "def cov2(x,y,bias_correction=True): \n",
    "    n=len(x)\n",
    "    if bias_correction:\n",
    "        return ((x-x.mean())*(y-y.mean())).mean()*n/(n-1)\n",
    "    else: \n",
    "        return ((x-x.mean())*(y-y.mean())).mean()"
   ]
  },
  {
   "cell_type": "markdown",
   "id": "46d72614-c773-400d-832c-073291475ae0",
   "metadata": {},
   "source": [
    "##### X,Y covariance with bias correction: same as numpy function"
   ]
  },
  {
   "cell_type": "code",
   "execution_count": 75,
   "id": "92078ee8-2baf-478f-aa1f-57bd5fe79615",
   "metadata": {},
   "outputs": [
    {
     "data": {
      "text/plain": [
       "-0.19864317810143448"
      ]
     },
     "execution_count": 75,
     "metadata": {},
     "output_type": "execute_result"
    }
   ],
   "source": [
    "cov2(X,Y)"
   ]
  },
  {
   "cell_type": "markdown",
   "id": "0578ecab-1ca9-47bc-8b38-f6108e6701a7",
   "metadata": {},
   "source": [
    "##### X,Y covariance without bias correction"
   ]
  },
  {
   "cell_type": "code",
   "execution_count": 107,
   "id": "14f1ba82-897b-466c-84a1-18d208765315",
   "metadata": {},
   "outputs": [
    {
     "data": {
      "text/plain": [
       "-0.15891454248114759"
      ]
     },
     "execution_count": 107,
     "metadata": {},
     "output_type": "execute_result"
    }
   ],
   "source": [
    "cov2(X,Y,bias_correction=False)"
   ]
  },
  {
   "cell_type": "markdown",
   "id": "6a70080a-c088-4ca2-97d0-36f6e285b3d4",
   "metadata": {},
   "source": [
    "### The covariance of a matrix (nxm)"
   ]
  },
  {
   "cell_type": "markdown",
   "id": "7744ee77-06ec-405b-99bb-8dad3b32b450",
   "metadata": {},
   "source": [
    "Wikipedia definition: For matrix ***M***"
   ]
  },
  {
   "cell_type": "markdown",
   "id": "cff3d70d-f923-4102-8edb-c71d9faed5c8",
   "metadata": {},
   "source": [
    "$ {  M}={\\begin{pmatrix}X_{1}\\\\\\vdots \\\\X_{p}\\end{pmatrix}} $"
   ]
  },
  {
   "cell_type": "markdown",
   "id": "813951b1-944b-45f6-8f86-004ccfcd56b9",
   "metadata": {},
   "source": [
    "The covariance is defined as: "
   ]
  },
  {
   "cell_type": "markdown",
   "id": "bf6132d7-67e9-4596-8927-fab78e10789b",
   "metadata": {},
   "source": [
    "$ \\operatorname {Cov}({M})={\\begin{pmatrix}\\operatorname {Var}(X_{1})&\\operatorname {Cov}(X_{{1}},X_{{2}})&\\cdots &\\operatorname {Cov}(X_{{1}},X_{{p}})\\\\\\operatorname {Cov}(X_{{2}},X_{{1}})&\\ddots &\\cdots &\\vdots \\\\\\vdots &\\vdots &\\ddots &\\vdots \\\\\\operatorname {Cov}(X_{{p}},X_{{1}})&\\cdots &\\cdots &\\operatorname {Var}(X_{p})\\end{pmatrix}}={\\begin{pmatrix}\\sigma _{{x_{1}}}^{2}&\\sigma _{{x_{{1}}x_{{2}}}}&\\cdots &\\sigma _{{x_{{1}}x_{{p}}}}\\\\\\sigma _{{x_{{2}}x_{{1}}}}&\\ddots &\\cdots &\\vdots \\\\\\vdots &\\vdots &\\ddots &\\vdots \\\\\\sigma _{{x_{{p}}x_{{1}}}}&\\cdots &\\cdots &\\sigma _{{x_{p}}}^{2}\\end{pmatrix}} $"
   ]
  },
  {
   "cell_type": "markdown",
   "id": "e91f18a9-c21d-4613-ac5a-06d846041b10",
   "metadata": {},
   "source": [
    "With Var(Xi)=Cov(Xi,Xi)"
   ]
  },
  {
   "cell_type": "markdown",
   "id": "c74a5b60-318b-4b11-b918-0dc43a14fe66",
   "metadata": {},
   "source": [
    "##### The covariance function of a matrix M"
   ]
  },
  {
   "cell_type": "code",
   "execution_count": 142,
   "id": "f267f17f-b757-4db9-badc-2f4e4404208d",
   "metadata": {},
   "outputs": [],
   "source": [
    "def CovM(M,bias_correction=True): \n",
    "    cov_out=np.zeros((M.shape[0],M.shape[0]))\n",
    "    for i,x1 in enumerate(M):\n",
    "        for j,x2 in enumerate(M): \n",
    "            cov_out[i,j]=cov2(x1,x2,bias_correction=bias_correction)\n",
    "    return cov_out"
   ]
  },
  {
   "cell_type": "markdown",
   "id": "8fec4273-8084-4a0f-a619-e02526bc7a0f",
   "metadata": {},
   "source": [
    "##### M matrix\n",
    "We use seed to find the same random output each time"
   ]
  },
  {
   "cell_type": "code",
   "execution_count": 86,
   "id": "7bc952b8-a555-447d-8432-af38bfce67c9",
   "metadata": {},
   "outputs": [
    {
     "data": {
      "text/plain": [
       "array([[ 1.01595805,  4.16295645, -4.18190522],\n",
       "       [ 0.2165521 ,  7.85893909,  7.92586178],\n",
       "       [-7.48829379, -5.85514244, -8.97065593]])"
      ]
     },
     "execution_count": 86,
     "metadata": {},
     "output_type": "execute_result"
    }
   ],
   "source": [
    "np.random.seed(3)\n",
    "M=np.random.uniform(-10,10,(3,3))\n",
    "M"
   ]
  },
  {
   "cell_type": "markdown",
   "id": "b99cc4bc-885e-4e26-b1e2-05bb81130b73",
   "metadata": {},
   "source": [
    "##### The covariance of ***M*** With our funcition"
   ]
  },
  {
   "cell_type": "code",
   "execution_count": 87,
   "id": "bb9a7511-3b59-4578-bf4d-93614641bae5",
   "metadata": {},
   "outputs": [
    {
     "data": {
      "text/plain": [
       "array([[17.75968298, -2.7633031 ,  6.4738616 ],\n",
       "       [-2.7633031 , 19.64066885,  0.14078121],\n",
       "       [ 6.4738616 ,  0.14078121,  2.42850087]])"
      ]
     },
     "execution_count": 87,
     "metadata": {},
     "output_type": "execute_result"
    }
   ],
   "source": [
    "CovM(M)"
   ]
  },
  {
   "cell_type": "markdown",
   "id": "18962ec0-8092-447e-a161-5e5e8ef14c23",
   "metadata": {},
   "source": [
    "##### Comparaison with numpy funciton"
   ]
  },
  {
   "cell_type": "code",
   "execution_count": 88,
   "id": "89ac159e-53df-4e4f-b4e5-45d95aa6720a",
   "metadata": {},
   "outputs": [
    {
     "data": {
      "text/plain": [
       "array([[17.75968298, -2.7633031 ,  6.4738616 ],\n",
       "       [-2.7633031 , 19.64066885,  0.14078121],\n",
       "       [ 6.4738616 ,  0.14078121,  2.42850087]])"
      ]
     },
     "execution_count": 88,
     "metadata": {},
     "output_type": "execute_result"
    }
   ],
   "source": [
    "np.cov(M)"
   ]
  },
  {
   "cell_type": "markdown",
   "id": "a52c3edd-d5ae-4121-b510-32efeabebd25",
   "metadata": {},
   "source": [
    "We find the same result: fine 👌"
   ]
  },
  {
   "cell_type": "markdown",
   "id": "748d063e-516e-4131-9c15-b5e91819c966",
   "metadata": {},
   "source": [
    "\n",
    "For more information, please see the wikipedia pages below:\n",
    "<br>https://fr.wikipedia.org/wiki/Covariance\n",
    "<br> https://en.wikipedia.org/wiki/Covariance_matrix"
   ]
  },
  {
   "cell_type": "markdown",
   "id": "51204363-6d00-40d9-82f8-e25bdf2a6696",
   "metadata": {},
   "source": [
    "# Correlation  <a name=\"tit4\"></a> "
   ]
  },
  {
   "cell_type": "markdown",
   "id": "dc85d964-c402-4503-b566-57a3384acb2b",
   "metadata": {},
   "source": [
    "Wikipedia definition: "
   ]
  },
  {
   "cell_type": "markdown",
   "id": "8f61e58d-38be-4331-8ec6-014c069d6ce9",
   "metadata": {},
   "source": [
    "The population correlation coefficient $ {\\displaystyle \\rho _{X,Y}}$ between two random variables  $X$ and $Y$ with expected values $ \\mu _{X} $ and  $\\sigma _{X}$ and $ \\sigma_Y $ is defined as:"
   ]
  },
  {
   "cell_type": "markdown",
   "id": "36a2032b-1b32-44a2-8ba9-3a9326ddeb56",
   "metadata": {},
   "source": [
    "$ {\\displaystyle \\rho _{X,Y}=\\operatorname {corr} (X,Y)={\\operatorname {cov} (X,Y) \\over \\sigma _{X}\\sigma _{Y}}={\\operatorname {E} [(X-\\mu _{X})(Y-\\mu _{Y})] \\over \\sigma _{X}\\sigma _{Y}},\\quad {\\text{if}}\\ \\sigma _{X}\\sigma _{Y}>0.}$ "
   ]
  },
  {
   "cell_type": "markdown",
   "id": "b4c0c405-997d-4272-a19f-6d04b17ba081",
   "metadata": {},
   "source": [
    "The Pearson correlation is defined only if both standard deviations are finite and positive. An alternative formula purely in terms of moments is:"
   ]
  },
  {
   "cell_type": "markdown",
   "id": "4b494f52-7dd7-40b2-bc4c-7425fdabdf4e",
   "metadata": {},
   "source": [
    "$ {\\displaystyle \\rho _{X,Y}={\\operatorname {E} (XY)-\\operatorname {E} (X)\\operatorname {E} (Y) \\over {\\sqrt {\\operatorname {E} (X^{2})-\\operatorname {E} (X)^{2}}}\\cdot {\\sqrt {\\operatorname {E} (Y^{2})-\\operatorname {E} (Y)^{2}}}}} $"
   ]
  },
  {
   "cell_type": "markdown",
   "id": "7958ce39-023f-4abb-aba2-0d17627223a8",
   "metadata": {},
   "source": [
    "E(X)=Average(X)\n",
    "<br> \n",
    "**unlike the covariance, the correlation coefficient is in the range [-1,1]**"
   ]
  },
  {
   "cell_type": "markdown",
   "id": "acdcd18d-e2bb-44b7-bb75-3a57f196953a",
   "metadata": {},
   "source": [
    "### The correlation funciton of two vectros"
   ]
  },
  {
   "cell_type": "code",
   "execution_count": 90,
   "id": "75e76a4e-2cf8-43c6-83f2-0880d9980eaa",
   "metadata": {},
   "outputs": [],
   "source": [
    "def corr(x,y): \n",
    "    #return cov2(x,y)/(x.std()*y.std())\n",
    "    N=(x*y).mean()-x.mean()*y.mean()\n",
    "    D=np.sqrt((x**2).mean()-x.mean()**2)\n",
    "    D=D*np.sqrt((y**2).mean()-y.mean()**2)\n",
    "    return N/D"
   ]
  },
  {
   "cell_type": "markdown",
   "id": "4e00b1df-ac6a-4782-af6c-92e30f7c7192",
   "metadata": {},
   "source": [
    "Reminder of X,Y vectors already defined "
   ]
  },
  {
   "cell_type": "code",
   "execution_count": 96,
   "id": "20fc9abb-37b0-4019-80bd-6c24786fd3da",
   "metadata": {},
   "outputs": [
    {
     "data": {
      "text/plain": [
       "(array([-0.16595599,  0.44064899, -0.99977125, -0.39533485, -0.70648822]),\n",
       " array([-0.1280102 , -0.94814754,  0.09932496, -0.12935521, -0.1592644 ]))"
      ]
     },
     "execution_count": 96,
     "metadata": {},
     "output_type": "execute_result"
    }
   ],
   "source": [
    "X,Y"
   ]
  },
  {
   "cell_type": "markdown",
   "id": "06b83530-1c00-499a-b5fb-fbe59bb3b60b",
   "metadata": {},
   "source": [
    "##### The correlation of X, Y: calculation by the defined function "
   ]
  },
  {
   "cell_type": "code",
   "execution_count": 95,
   "id": "9c0913f0-0bbe-4614-9c53-398874f4b0fd",
   "metadata": {},
   "outputs": [
    {
     "data": {
      "text/plain": [
       "-0.8982972930960346"
      ]
     },
     "execution_count": 95,
     "metadata": {},
     "output_type": "execute_result"
    }
   ],
   "source": [
    "corr(X,Y)"
   ]
  },
  {
   "cell_type": "markdown",
   "id": "c226a0b3-63dd-4502-98fd-2e2f676547e8",
   "metadata": {},
   "source": [
    "##### Comparaison with numpy function"
   ]
  },
  {
   "cell_type": "code",
   "execution_count": 98,
   "id": "7f91f5e1-45f9-4bc0-950f-f4dbfa4b3ed9",
   "metadata": {},
   "outputs": [
    {
     "data": {
      "text/plain": [
       "-0.8982972930960343"
      ]
     },
     "execution_count": 98,
     "metadata": {},
     "output_type": "execute_result"
    }
   ],
   "source": [
    "np.corrcoef(X, Y)[0,1]"
   ]
  },
  {
   "cell_type": "markdown",
   "id": "52e49f83-895e-44b0-9e56-110141704a87",
   "metadata": {},
   "source": [
    "We find the same result"
   ]
  },
  {
   "cell_type": "markdown",
   "id": "32462b17-a276-469b-8e31-45b116f88347",
   "metadata": {},
   "source": [
    "### The correlation of a matrix"
   ]
  },
  {
   "cell_type": "code",
   "execution_count": 132,
   "id": "cc2eeb53-2f72-488a-8efc-66b1172404cb",
   "metadata": {},
   "outputs": [],
   "source": [
    "def corrM(M):\n",
    "    corr_out=np.zeros((M.shape[0],M.shape[0]))\n",
    "    for i,x1 in enumerate(M):\n",
    "        for j,x2 in enumerate(M): \n",
    "            corr_out[i,j]=corr(x1,x2)\n",
    "    return corr_out"
   ]
  },
  {
   "cell_type": "markdown",
   "id": "d59ba4f5-f704-42d3-a19d-5c05e4ba4054",
   "metadata": {},
   "source": [
    "Reminder of the M matrix"
   ]
  },
  {
   "cell_type": "code",
   "execution_count": 101,
   "id": "a7fbe415-fd09-4352-b007-154071a79e0d",
   "metadata": {},
   "outputs": [
    {
     "data": {
      "text/plain": [
       "array([[ 1.01595805,  4.16295645, -4.18190522],\n",
       "       [ 0.2165521 ,  7.85893909,  7.92586178],\n",
       "       [-7.48829379, -5.85514244, -8.97065593]])"
      ]
     },
     "execution_count": 101,
     "metadata": {},
     "output_type": "execute_result"
    }
   ],
   "source": [
    "M"
   ]
  },
  {
   "cell_type": "markdown",
   "id": "fa3a31fd-9fd4-4696-94f4-071044472f74",
   "metadata": {},
   "source": [
    "##### M correlation with the local function"
   ]
  },
  {
   "cell_type": "code",
   "execution_count": 102,
   "id": "82ee0ad6-30b9-4790-bf15-3a679cc7c72e",
   "metadata": {},
   "outputs": [
    {
     "data": {
      "text/plain": [
       "array([[ 1.        , -0.14795607,  0.98577245],\n",
       "       [-0.14795607,  1.        ,  0.02038438],\n",
       "       [ 0.98577245,  0.02038438,  1.        ]])"
      ]
     },
     "execution_count": 102,
     "metadata": {},
     "output_type": "execute_result"
    }
   ],
   "source": [
    "corrM(M)"
   ]
  },
  {
   "cell_type": "markdown",
   "id": "c63e05d5-9cb1-4580-8443-3d98545a4f8e",
   "metadata": {},
   "source": [
    "##### M correlation with numpy function"
   ]
  },
  {
   "cell_type": "code",
   "execution_count": 103,
   "id": "bc878123-335d-4b18-9a45-8c0d2cd3df41",
   "metadata": {},
   "outputs": [
    {
     "data": {
      "text/plain": [
       "array([[ 1.        , -0.14795607,  0.98577245],\n",
       "       [-0.14795607,  1.        ,  0.02038438],\n",
       "       [ 0.98577245,  0.02038438,  1.        ]])"
      ]
     },
     "execution_count": 103,
     "metadata": {},
     "output_type": "execute_result"
    }
   ],
   "source": [
    "np.corrcoef(M)"
   ]
  },
  {
   "cell_type": "markdown",
   "id": "393c8309-24b8-4986-aacd-76b99d478ec1",
   "metadata": {},
   "source": [
    "We found the same value"
   ]
  },
  {
   "cell_type": "markdown",
   "id": "6293c431-89ec-4be7-af71-f6d49e344633",
   "metadata": {},
   "source": [
    "For more information, please see the wikipedia pages below:\n",
    "<br> https://en.wikipedia.org/wiki/Correlation\n",
    "<br> https://en.wikipedia.org/wiki/Correlation"
   ]
  },
  {
   "cell_type": "markdown",
   "id": "aa8e21cf-2f8e-4d22-a3a8-1a0ad69a904e",
   "metadata": {},
   "source": [
    "# Application with the diabetes dataset <a name=\"tit5\"></a> "
   ]
  },
  {
   "cell_type": "markdown",
   "id": "68a5a276-d3a7-44a5-85e8-7c150b5a1800",
   "metadata": {},
   "source": [
    "### The dataset "
   ]
  },
  {
   "cell_type": "markdown",
   "id": "3498e954-453c-4dfc-be79-7957144442b6",
   "metadata": {},
   "source": [
    "For more information about this dataset, please see the project [Linear Logistic Regression with NumPy pure code and a comparison wit Sklearn model](https://bouz1.github.io/fils/NumpyLR.html), or the official link https://scikit-learn.org/stable/datasets/toy_dataset.html"
   ]
  },
  {
   "cell_type": "markdown",
   "id": "8956ab51-d152-45cf-befd-5296d0c62719",
   "metadata": {},
   "source": [
    "##### Import the dataset"
   ]
  },
  {
   "cell_type": "code",
   "execution_count": 115,
   "id": "4e344e7d-1c4c-418b-b65b-60b71bf778b0",
   "metadata": {},
   "outputs": [],
   "source": [
    "from sklearn import datasets\n",
    "X,Y=datasets.load_diabetes(return_X_y=True)"
   ]
  },
  {
   "cell_type": "markdown",
   "id": "775f1e18-e2ac-4ccb-8fd1-833a3f6efe23",
   "metadata": {},
   "source": [
    "##### Organize data in Pandas DataFrame"
   ]
  },
  {
   "cell_type": "code",
   "execution_count": 120,
   "id": "9866c5aa-ed5b-4546-89e0-0601e754bf4b",
   "metadata": {},
   "outputs": [],
   "source": [
    "import pandas as pd"
   ]
  },
  {
   "cell_type": "code",
   "execution_count": 121,
   "id": "c0f73876-4556-48ba-a025-c40799630b9b",
   "metadata": {},
   "outputs": [
    {
     "data": {
      "text/plain": [
       "['x0', 'x1', 'x2', 'x3', 'x4', 'x5', 'x6', 'x7', 'x8', 'x9', 'y']"
      ]
     },
     "execution_count": 121,
     "metadata": {},
     "output_type": "execute_result"
    }
   ],
   "source": [
    "inp=['x'+str(i) for i in range(X.shape[1])]\n",
    "inp+['y']"
   ]
  },
  {
   "cell_type": "code",
   "execution_count": 122,
   "id": "e47c17b3-f7fa-4bfb-b95e-46cbbe19890f",
   "metadata": {},
   "outputs": [
    {
     "data": {
      "text/html": [
       "<div>\n",
       "<style scoped>\n",
       "    .dataframe tbody tr th:only-of-type {\n",
       "        vertical-align: middle;\n",
       "    }\n",
       "\n",
       "    .dataframe tbody tr th {\n",
       "        vertical-align: top;\n",
       "    }\n",
       "\n",
       "    .dataframe thead th {\n",
       "        text-align: right;\n",
       "    }\n",
       "</style>\n",
       "<table border=\"1\" class=\"dataframe\">\n",
       "  <thead>\n",
       "    <tr style=\"text-align: right;\">\n",
       "      <th></th>\n",
       "      <th>x0</th>\n",
       "      <th>x1</th>\n",
       "      <th>x2</th>\n",
       "      <th>x3</th>\n",
       "      <th>x4</th>\n",
       "      <th>x5</th>\n",
       "      <th>x6</th>\n",
       "      <th>x7</th>\n",
       "      <th>x8</th>\n",
       "      <th>x9</th>\n",
       "      <th>y</th>\n",
       "    </tr>\n",
       "  </thead>\n",
       "  <tbody>\n",
       "    <tr>\n",
       "      <th>0</th>\n",
       "      <td>0.038076</td>\n",
       "      <td>0.050680</td>\n",
       "      <td>0.061696</td>\n",
       "      <td>0.021872</td>\n",
       "      <td>-0.044223</td>\n",
       "      <td>-0.034821</td>\n",
       "      <td>-0.043401</td>\n",
       "      <td>-0.002592</td>\n",
       "      <td>0.019907</td>\n",
       "      <td>-0.017646</td>\n",
       "      <td>151.0</td>\n",
       "    </tr>\n",
       "    <tr>\n",
       "      <th>1</th>\n",
       "      <td>-0.001882</td>\n",
       "      <td>-0.044642</td>\n",
       "      <td>-0.051474</td>\n",
       "      <td>-0.026328</td>\n",
       "      <td>-0.008449</td>\n",
       "      <td>-0.019163</td>\n",
       "      <td>0.074412</td>\n",
       "      <td>-0.039493</td>\n",
       "      <td>-0.068332</td>\n",
       "      <td>-0.092204</td>\n",
       "      <td>75.0</td>\n",
       "    </tr>\n",
       "    <tr>\n",
       "      <th>2</th>\n",
       "      <td>0.085299</td>\n",
       "      <td>0.050680</td>\n",
       "      <td>0.044451</td>\n",
       "      <td>-0.005670</td>\n",
       "      <td>-0.045599</td>\n",
       "      <td>-0.034194</td>\n",
       "      <td>-0.032356</td>\n",
       "      <td>-0.002592</td>\n",
       "      <td>0.002861</td>\n",
       "      <td>-0.025930</td>\n",
       "      <td>141.0</td>\n",
       "    </tr>\n",
       "  </tbody>\n",
       "</table>\n",
       "</div>"
      ],
      "text/plain": [
       "         x0        x1        x2        x3        x4        x5        x6   \n",
       "0  0.038076  0.050680  0.061696  0.021872 -0.044223 -0.034821 -0.043401  \\\n",
       "1 -0.001882 -0.044642 -0.051474 -0.026328 -0.008449 -0.019163  0.074412   \n",
       "2  0.085299  0.050680  0.044451 -0.005670 -0.045599 -0.034194 -0.032356   \n",
       "\n",
       "         x7        x8        x9      y  \n",
       "0 -0.002592  0.019907 -0.017646  151.0  \n",
       "1 -0.039493 -0.068332 -0.092204   75.0  \n",
       "2 -0.002592  0.002861 -0.025930  141.0  "
      ]
     },
     "execution_count": 122,
     "metadata": {},
     "output_type": "execute_result"
    }
   ],
   "source": [
    "['x0', 'x1', 'x2', 'x3', 'x4', 'x5', 'x6', 'x7', 'x8', 'x9', 'y']\n",
    "df=pd.concat([pd.DataFrame(X,columns=inp),pd.DataFrame(Y,columns=['y'])],axis=1)\n",
    "df.head(3)"
   ]
  },
  {
   "cell_type": "markdown",
   "id": "c88b378b-b381-4a59-a458-db856339ce93",
   "metadata": {
    "tags": []
   },
   "source": [
    "### The covariance"
   ]
  },
  {
   "cell_type": "markdown",
   "id": "abac9bd0-d0c4-4728-b99e-1c33fda58533",
   "metadata": {},
   "source": [
    "##### The covariance with panda funcition: "
   ]
  },
  {
   "cell_type": "code",
   "execution_count": 139,
   "id": "b484f3f8-c0b7-42a1-90d3-65b3fad7a11d",
   "metadata": {},
   "outputs": [
    {
     "data": {
      "text/html": [
       "<div>\n",
       "<style scoped>\n",
       "    .dataframe tbody tr th:only-of-type {\n",
       "        vertical-align: middle;\n",
       "    }\n",
       "\n",
       "    .dataframe tbody tr th {\n",
       "        vertical-align: top;\n",
       "    }\n",
       "\n",
       "    .dataframe thead th {\n",
       "        text-align: right;\n",
       "    }\n",
       "</style>\n",
       "<table border=\"1\" class=\"dataframe\">\n",
       "  <thead>\n",
       "    <tr style=\"text-align: right;\">\n",
       "      <th></th>\n",
       "      <th>x0</th>\n",
       "      <th>x1</th>\n",
       "      <th>x2</th>\n",
       "      <th>x3</th>\n",
       "      <th>x4</th>\n",
       "      <th>x5</th>\n",
       "      <th>x6</th>\n",
       "      <th>x7</th>\n",
       "      <th>x8</th>\n",
       "      <th>x9</th>\n",
       "      <th>y</th>\n",
       "    </tr>\n",
       "  </thead>\n",
       "  <tbody>\n",
       "    <tr>\n",
       "      <th>x0</th>\n",
       "      <td>0.002268</td>\n",
       "      <td>0.000394</td>\n",
       "      <td>0.000420</td>\n",
       "      <td>0.000761</td>\n",
       "      <td>0.000590</td>\n",
       "      <td>0.000497</td>\n",
       "      <td>-0.000170</td>\n",
       "      <td>0.000462</td>\n",
       "      <td>0.000614</td>\n",
       "      <td>0.000684</td>\n",
       "      <td>0.689758</td>\n",
       "    </tr>\n",
       "    <tr>\n",
       "      <th>x1</th>\n",
       "      <td>0.000394</td>\n",
       "      <td>0.002268</td>\n",
       "      <td>0.000200</td>\n",
       "      <td>0.000547</td>\n",
       "      <td>0.000080</td>\n",
       "      <td>0.000323</td>\n",
       "      <td>-0.000860</td>\n",
       "      <td>0.000753</td>\n",
       "      <td>0.000340</td>\n",
       "      <td>0.000472</td>\n",
       "      <td>0.158085</td>\n",
       "    </tr>\n",
       "    <tr>\n",
       "      <th>x2</th>\n",
       "      <td>0.000420</td>\n",
       "      <td>0.000200</td>\n",
       "      <td>0.002268</td>\n",
       "      <td>0.000897</td>\n",
       "      <td>0.000566</td>\n",
       "      <td>0.000592</td>\n",
       "      <td>-0.000832</td>\n",
       "      <td>0.000938</td>\n",
       "      <td>0.001012</td>\n",
       "      <td>0.000881</td>\n",
       "      <td>2.152914</td>\n",
       "    </tr>\n",
       "    <tr>\n",
       "      <th>x3</th>\n",
       "      <td>0.000761</td>\n",
       "      <td>0.000547</td>\n",
       "      <td>0.000897</td>\n",
       "      <td>0.002268</td>\n",
       "      <td>0.000550</td>\n",
       "      <td>0.000421</td>\n",
       "      <td>-0.000405</td>\n",
       "      <td>0.000584</td>\n",
       "      <td>0.000892</td>\n",
       "      <td>0.000885</td>\n",
       "      <td>1.620722</td>\n",
       "    </tr>\n",
       "    <tr>\n",
       "      <th>x4</th>\n",
       "      <td>0.000590</td>\n",
       "      <td>0.000080</td>\n",
       "      <td>0.000566</td>\n",
       "      <td>0.000550</td>\n",
       "      <td>0.002268</td>\n",
       "      <td>0.002033</td>\n",
       "      <td>0.000117</td>\n",
       "      <td>0.001229</td>\n",
       "      <td>0.001169</td>\n",
       "      <td>0.000739</td>\n",
       "      <td>0.778355</td>\n",
       "    </tr>\n",
       "    <tr>\n",
       "      <th>x5</th>\n",
       "      <td>0.000497</td>\n",
       "      <td>0.000323</td>\n",
       "      <td>0.000592</td>\n",
       "      <td>0.000421</td>\n",
       "      <td>0.002033</td>\n",
       "      <td>0.002268</td>\n",
       "      <td>-0.000445</td>\n",
       "      <td>0.001496</td>\n",
       "      <td>0.000722</td>\n",
       "      <td>0.000659</td>\n",
       "      <td>0.638967</td>\n",
       "    </tr>\n",
       "    <tr>\n",
       "      <th>x6</th>\n",
       "      <td>-0.000170</td>\n",
       "      <td>-0.000860</td>\n",
       "      <td>-0.000832</td>\n",
       "      <td>-0.000405</td>\n",
       "      <td>0.000117</td>\n",
       "      <td>-0.000445</td>\n",
       "      <td>0.002268</td>\n",
       "      <td>-0.001675</td>\n",
       "      <td>-0.000904</td>\n",
       "      <td>-0.000621</td>\n",
       "      <td>-1.449309</td>\n",
       "    </tr>\n",
       "    <tr>\n",
       "      <th>x7</th>\n",
       "      <td>0.000462</td>\n",
       "      <td>0.000753</td>\n",
       "      <td>0.000938</td>\n",
       "      <td>0.000584</td>\n",
       "      <td>0.001229</td>\n",
       "      <td>0.001496</td>\n",
       "      <td>-0.001675</td>\n",
       "      <td>0.002268</td>\n",
       "      <td>0.001401</td>\n",
       "      <td>0.000946</td>\n",
       "      <td>1.580234</td>\n",
       "    </tr>\n",
       "    <tr>\n",
       "      <th>x8</th>\n",
       "      <td>0.000614</td>\n",
       "      <td>0.000340</td>\n",
       "      <td>0.001012</td>\n",
       "      <td>0.000892</td>\n",
       "      <td>0.001169</td>\n",
       "      <td>0.000722</td>\n",
       "      <td>-0.000904</td>\n",
       "      <td>0.001401</td>\n",
       "      <td>0.002268</td>\n",
       "      <td>0.001054</td>\n",
       "      <td>2.077409</td>\n",
       "    </tr>\n",
       "    <tr>\n",
       "      <th>x9</th>\n",
       "      <td>0.000684</td>\n",
       "      <td>0.000472</td>\n",
       "      <td>0.000881</td>\n",
       "      <td>0.000885</td>\n",
       "      <td>0.000739</td>\n",
       "      <td>0.000659</td>\n",
       "      <td>-0.000621</td>\n",
       "      <td>0.000946</td>\n",
       "      <td>0.001054</td>\n",
       "      <td>0.002268</td>\n",
       "      <td>1.404133</td>\n",
       "    </tr>\n",
       "    <tr>\n",
       "      <th>y</th>\n",
       "      <td>0.689758</td>\n",
       "      <td>0.158085</td>\n",
       "      <td>2.152914</td>\n",
       "      <td>1.620722</td>\n",
       "      <td>0.778355</td>\n",
       "      <td>0.638967</td>\n",
       "      <td>-1.449309</td>\n",
       "      <td>1.580234</td>\n",
       "      <td>2.077409</td>\n",
       "      <td>1.404133</td>\n",
       "      <td>5943.331348</td>\n",
       "    </tr>\n",
       "  </tbody>\n",
       "</table>\n",
       "</div>"
      ],
      "text/plain": [
       "          x0        x1        x2        x3        x4        x5        x6   \n",
       "x0  0.002268  0.000394  0.000420  0.000761  0.000590  0.000497 -0.000170  \\\n",
       "x1  0.000394  0.002268  0.000200  0.000547  0.000080  0.000323 -0.000860   \n",
       "x2  0.000420  0.000200  0.002268  0.000897  0.000566  0.000592 -0.000832   \n",
       "x3  0.000761  0.000547  0.000897  0.002268  0.000550  0.000421 -0.000405   \n",
       "x4  0.000590  0.000080  0.000566  0.000550  0.002268  0.002033  0.000117   \n",
       "x5  0.000497  0.000323  0.000592  0.000421  0.002033  0.002268 -0.000445   \n",
       "x6 -0.000170 -0.000860 -0.000832 -0.000405  0.000117 -0.000445  0.002268   \n",
       "x7  0.000462  0.000753  0.000938  0.000584  0.001229  0.001496 -0.001675   \n",
       "x8  0.000614  0.000340  0.001012  0.000892  0.001169  0.000722 -0.000904   \n",
       "x9  0.000684  0.000472  0.000881  0.000885  0.000739  0.000659 -0.000621   \n",
       "y   0.689758  0.158085  2.152914  1.620722  0.778355  0.638967 -1.449309   \n",
       "\n",
       "          x7        x8        x9            y  \n",
       "x0  0.000462  0.000614  0.000684     0.689758  \n",
       "x1  0.000753  0.000340  0.000472     0.158085  \n",
       "x2  0.000938  0.001012  0.000881     2.152914  \n",
       "x3  0.000584  0.000892  0.000885     1.620722  \n",
       "x4  0.001229  0.001169  0.000739     0.778355  \n",
       "x5  0.001496  0.000722  0.000659     0.638967  \n",
       "x6 -0.001675 -0.000904 -0.000621    -1.449309  \n",
       "x7  0.002268  0.001401  0.000946     1.580234  \n",
       "x8  0.001401  0.002268  0.001054     2.077409  \n",
       "x9  0.000946  0.001054  0.002268     1.404133  \n",
       "y   1.580234  2.077409  1.404133  5943.331348  "
      ]
     },
     "execution_count": 139,
     "metadata": {},
     "output_type": "execute_result"
    }
   ],
   "source": [
    "df.cov()"
   ]
  },
  {
   "cell_type": "markdown",
   "id": "2a406ef5-23f3-4c7d-bbf3-4e1a1e00a2c3",
   "metadata": {},
   "source": [
    "##### The covariance with our function\n",
    "For more visibility: Convert the result to a dataframe"
   ]
  },
  {
   "cell_type": "code",
   "execution_count": 144,
   "id": "da854624-1999-46e2-b796-e437041c322f",
   "metadata": {},
   "outputs": [
    {
     "data": {
      "text/html": [
       "<div>\n",
       "<style scoped>\n",
       "    .dataframe tbody tr th:only-of-type {\n",
       "        vertical-align: middle;\n",
       "    }\n",
       "\n",
       "    .dataframe tbody tr th {\n",
       "        vertical-align: top;\n",
       "    }\n",
       "\n",
       "    .dataframe thead th {\n",
       "        text-align: right;\n",
       "    }\n",
       "</style>\n",
       "<table border=\"1\" class=\"dataframe\">\n",
       "  <thead>\n",
       "    <tr style=\"text-align: right;\">\n",
       "      <th></th>\n",
       "      <th>0</th>\n",
       "      <th>1</th>\n",
       "      <th>2</th>\n",
       "      <th>3</th>\n",
       "      <th>4</th>\n",
       "      <th>5</th>\n",
       "      <th>6</th>\n",
       "      <th>7</th>\n",
       "      <th>8</th>\n",
       "      <th>9</th>\n",
       "      <th>10</th>\n",
       "    </tr>\n",
       "  </thead>\n",
       "  <tbody>\n",
       "    <tr>\n",
       "      <th>0</th>\n",
       "      <td>0.002268</td>\n",
       "      <td>0.000394</td>\n",
       "      <td>0.000420</td>\n",
       "      <td>0.000761</td>\n",
       "      <td>0.000590</td>\n",
       "      <td>0.000497</td>\n",
       "      <td>-0.000170</td>\n",
       "      <td>0.000462</td>\n",
       "      <td>0.000614</td>\n",
       "      <td>0.000684</td>\n",
       "      <td>0.689758</td>\n",
       "    </tr>\n",
       "    <tr>\n",
       "      <th>1</th>\n",
       "      <td>0.000394</td>\n",
       "      <td>0.002268</td>\n",
       "      <td>0.000200</td>\n",
       "      <td>0.000547</td>\n",
       "      <td>0.000080</td>\n",
       "      <td>0.000323</td>\n",
       "      <td>-0.000860</td>\n",
       "      <td>0.000753</td>\n",
       "      <td>0.000340</td>\n",
       "      <td>0.000472</td>\n",
       "      <td>0.158085</td>\n",
       "    </tr>\n",
       "    <tr>\n",
       "      <th>2</th>\n",
       "      <td>0.000420</td>\n",
       "      <td>0.000200</td>\n",
       "      <td>0.002268</td>\n",
       "      <td>0.000897</td>\n",
       "      <td>0.000566</td>\n",
       "      <td>0.000592</td>\n",
       "      <td>-0.000832</td>\n",
       "      <td>0.000938</td>\n",
       "      <td>0.001012</td>\n",
       "      <td>0.000881</td>\n",
       "      <td>2.152914</td>\n",
       "    </tr>\n",
       "    <tr>\n",
       "      <th>3</th>\n",
       "      <td>0.000761</td>\n",
       "      <td>0.000547</td>\n",
       "      <td>0.000897</td>\n",
       "      <td>0.002268</td>\n",
       "      <td>0.000550</td>\n",
       "      <td>0.000421</td>\n",
       "      <td>-0.000405</td>\n",
       "      <td>0.000584</td>\n",
       "      <td>0.000892</td>\n",
       "      <td>0.000885</td>\n",
       "      <td>1.620722</td>\n",
       "    </tr>\n",
       "    <tr>\n",
       "      <th>4</th>\n",
       "      <td>0.000590</td>\n",
       "      <td>0.000080</td>\n",
       "      <td>0.000566</td>\n",
       "      <td>0.000550</td>\n",
       "      <td>0.002268</td>\n",
       "      <td>0.002033</td>\n",
       "      <td>0.000117</td>\n",
       "      <td>0.001229</td>\n",
       "      <td>0.001169</td>\n",
       "      <td>0.000739</td>\n",
       "      <td>0.778355</td>\n",
       "    </tr>\n",
       "    <tr>\n",
       "      <th>5</th>\n",
       "      <td>0.000497</td>\n",
       "      <td>0.000323</td>\n",
       "      <td>0.000592</td>\n",
       "      <td>0.000421</td>\n",
       "      <td>0.002033</td>\n",
       "      <td>0.002268</td>\n",
       "      <td>-0.000445</td>\n",
       "      <td>0.001496</td>\n",
       "      <td>0.000722</td>\n",
       "      <td>0.000659</td>\n",
       "      <td>0.638967</td>\n",
       "    </tr>\n",
       "    <tr>\n",
       "      <th>6</th>\n",
       "      <td>-0.000170</td>\n",
       "      <td>-0.000860</td>\n",
       "      <td>-0.000832</td>\n",
       "      <td>-0.000405</td>\n",
       "      <td>0.000117</td>\n",
       "      <td>-0.000445</td>\n",
       "      <td>0.002268</td>\n",
       "      <td>-0.001675</td>\n",
       "      <td>-0.000904</td>\n",
       "      <td>-0.000621</td>\n",
       "      <td>-1.449309</td>\n",
       "    </tr>\n",
       "    <tr>\n",
       "      <th>7</th>\n",
       "      <td>0.000462</td>\n",
       "      <td>0.000753</td>\n",
       "      <td>0.000938</td>\n",
       "      <td>0.000584</td>\n",
       "      <td>0.001229</td>\n",
       "      <td>0.001496</td>\n",
       "      <td>-0.001675</td>\n",
       "      <td>0.002268</td>\n",
       "      <td>0.001401</td>\n",
       "      <td>0.000946</td>\n",
       "      <td>1.580234</td>\n",
       "    </tr>\n",
       "    <tr>\n",
       "      <th>8</th>\n",
       "      <td>0.000614</td>\n",
       "      <td>0.000340</td>\n",
       "      <td>0.001012</td>\n",
       "      <td>0.000892</td>\n",
       "      <td>0.001169</td>\n",
       "      <td>0.000722</td>\n",
       "      <td>-0.000904</td>\n",
       "      <td>0.001401</td>\n",
       "      <td>0.002268</td>\n",
       "      <td>0.001054</td>\n",
       "      <td>2.077409</td>\n",
       "    </tr>\n",
       "    <tr>\n",
       "      <th>9</th>\n",
       "      <td>0.000684</td>\n",
       "      <td>0.000472</td>\n",
       "      <td>0.000881</td>\n",
       "      <td>0.000885</td>\n",
       "      <td>0.000739</td>\n",
       "      <td>0.000659</td>\n",
       "      <td>-0.000621</td>\n",
       "      <td>0.000946</td>\n",
       "      <td>0.001054</td>\n",
       "      <td>0.002268</td>\n",
       "      <td>1.404133</td>\n",
       "    </tr>\n",
       "    <tr>\n",
       "      <th>10</th>\n",
       "      <td>0.689758</td>\n",
       "      <td>0.158085</td>\n",
       "      <td>2.152914</td>\n",
       "      <td>1.620722</td>\n",
       "      <td>0.778355</td>\n",
       "      <td>0.638967</td>\n",
       "      <td>-1.449309</td>\n",
       "      <td>1.580234</td>\n",
       "      <td>2.077409</td>\n",
       "      <td>1.404133</td>\n",
       "      <td>5943.331348</td>\n",
       "    </tr>\n",
       "  </tbody>\n",
       "</table>\n",
       "</div>"
      ],
      "text/plain": [
       "          0         1         2         3         4         5         6    \n",
       "0   0.002268  0.000394  0.000420  0.000761  0.000590  0.000497 -0.000170  \\\n",
       "1   0.000394  0.002268  0.000200  0.000547  0.000080  0.000323 -0.000860   \n",
       "2   0.000420  0.000200  0.002268  0.000897  0.000566  0.000592 -0.000832   \n",
       "3   0.000761  0.000547  0.000897  0.002268  0.000550  0.000421 -0.000405   \n",
       "4   0.000590  0.000080  0.000566  0.000550  0.002268  0.002033  0.000117   \n",
       "5   0.000497  0.000323  0.000592  0.000421  0.002033  0.002268 -0.000445   \n",
       "6  -0.000170 -0.000860 -0.000832 -0.000405  0.000117 -0.000445  0.002268   \n",
       "7   0.000462  0.000753  0.000938  0.000584  0.001229  0.001496 -0.001675   \n",
       "8   0.000614  0.000340  0.001012  0.000892  0.001169  0.000722 -0.000904   \n",
       "9   0.000684  0.000472  0.000881  0.000885  0.000739  0.000659 -0.000621   \n",
       "10  0.689758  0.158085  2.152914  1.620722  0.778355  0.638967 -1.449309   \n",
       "\n",
       "          7         8         9            10  \n",
       "0   0.000462  0.000614  0.000684     0.689758  \n",
       "1   0.000753  0.000340  0.000472     0.158085  \n",
       "2   0.000938  0.001012  0.000881     2.152914  \n",
       "3   0.000584  0.000892  0.000885     1.620722  \n",
       "4   0.001229  0.001169  0.000739     0.778355  \n",
       "5   0.001496  0.000722  0.000659     0.638967  \n",
       "6  -0.001675 -0.000904 -0.000621    -1.449309  \n",
       "7   0.002268  0.001401  0.000946     1.580234  \n",
       "8   0.001401  0.002268  0.001054     2.077409  \n",
       "9   0.000946  0.001054  0.002268     1.404133  \n",
       "10  1.580234  2.077409  1.404133  5943.331348  "
      ]
     },
     "execution_count": 144,
     "metadata": {},
     "output_type": "execute_result"
    }
   ],
   "source": [
    "pd.DataFrame(CovM(df.values.T))"
   ]
  },
  {
   "cell_type": "markdown",
   "id": "818b04b5-35ae-4a6c-bc96-11976fbc187d",
   "metadata": {},
   "source": [
    "We find the same result"
   ]
  },
  {
   "cell_type": "markdown",
   "id": "d4942344-aee5-4b49-b325-4d25cdf295cb",
   "metadata": {},
   "source": [
    "### The correlation"
   ]
  },
  {
   "cell_type": "markdown",
   "id": "82acfd83-0990-4415-9adf-f033d554ba5b",
   "metadata": {},
   "source": [
    "##### The correlation with panda funcition: "
   ]
  },
  {
   "cell_type": "code",
   "execution_count": 124,
   "id": "3b74b7c7-11e9-4f8c-9dc7-eda0ab7f5d38",
   "metadata": {},
   "outputs": [
    {
     "data": {
      "text/html": [
       "<div>\n",
       "<style scoped>\n",
       "    .dataframe tbody tr th:only-of-type {\n",
       "        vertical-align: middle;\n",
       "    }\n",
       "\n",
       "    .dataframe tbody tr th {\n",
       "        vertical-align: top;\n",
       "    }\n",
       "\n",
       "    .dataframe thead th {\n",
       "        text-align: right;\n",
       "    }\n",
       "</style>\n",
       "<table border=\"1\" class=\"dataframe\">\n",
       "  <thead>\n",
       "    <tr style=\"text-align: right;\">\n",
       "      <th></th>\n",
       "      <th>x0</th>\n",
       "      <th>x1</th>\n",
       "      <th>x2</th>\n",
       "      <th>x3</th>\n",
       "      <th>x4</th>\n",
       "      <th>x5</th>\n",
       "      <th>x6</th>\n",
       "      <th>x7</th>\n",
       "      <th>x8</th>\n",
       "      <th>x9</th>\n",
       "      <th>y</th>\n",
       "    </tr>\n",
       "  </thead>\n",
       "  <tbody>\n",
       "    <tr>\n",
       "      <th>x0</th>\n",
       "      <td>1.000000</td>\n",
       "      <td>0.173737</td>\n",
       "      <td>0.185085</td>\n",
       "      <td>0.335428</td>\n",
       "      <td>0.260061</td>\n",
       "      <td>0.219243</td>\n",
       "      <td>-0.075181</td>\n",
       "      <td>0.203841</td>\n",
       "      <td>0.270774</td>\n",
       "      <td>0.301731</td>\n",
       "      <td>0.187889</td>\n",
       "    </tr>\n",
       "    <tr>\n",
       "      <th>x1</th>\n",
       "      <td>0.173737</td>\n",
       "      <td>1.000000</td>\n",
       "      <td>0.088161</td>\n",
       "      <td>0.241010</td>\n",
       "      <td>0.035277</td>\n",
       "      <td>0.142637</td>\n",
       "      <td>-0.379090</td>\n",
       "      <td>0.332115</td>\n",
       "      <td>0.149916</td>\n",
       "      <td>0.208133</td>\n",
       "      <td>0.043062</td>\n",
       "    </tr>\n",
       "    <tr>\n",
       "      <th>x2</th>\n",
       "      <td>0.185085</td>\n",
       "      <td>0.088161</td>\n",
       "      <td>1.000000</td>\n",
       "      <td>0.395411</td>\n",
       "      <td>0.249777</td>\n",
       "      <td>0.261170</td>\n",
       "      <td>-0.366811</td>\n",
       "      <td>0.413807</td>\n",
       "      <td>0.446157</td>\n",
       "      <td>0.388680</td>\n",
       "      <td>0.586450</td>\n",
       "    </tr>\n",
       "    <tr>\n",
       "      <th>x3</th>\n",
       "      <td>0.335428</td>\n",
       "      <td>0.241010</td>\n",
       "      <td>0.395411</td>\n",
       "      <td>1.000000</td>\n",
       "      <td>0.242464</td>\n",
       "      <td>0.185548</td>\n",
       "      <td>-0.178762</td>\n",
       "      <td>0.257650</td>\n",
       "      <td>0.393480</td>\n",
       "      <td>0.390430</td>\n",
       "      <td>0.441482</td>\n",
       "    </tr>\n",
       "    <tr>\n",
       "      <th>x4</th>\n",
       "      <td>0.260061</td>\n",
       "      <td>0.035277</td>\n",
       "      <td>0.249777</td>\n",
       "      <td>0.242464</td>\n",
       "      <td>1.000000</td>\n",
       "      <td>0.896663</td>\n",
       "      <td>0.051519</td>\n",
       "      <td>0.542207</td>\n",
       "      <td>0.515503</td>\n",
       "      <td>0.325717</td>\n",
       "      <td>0.212022</td>\n",
       "    </tr>\n",
       "    <tr>\n",
       "      <th>x5</th>\n",
       "      <td>0.219243</td>\n",
       "      <td>0.142637</td>\n",
       "      <td>0.261170</td>\n",
       "      <td>0.185548</td>\n",
       "      <td>0.896663</td>\n",
       "      <td>1.000000</td>\n",
       "      <td>-0.196455</td>\n",
       "      <td>0.659817</td>\n",
       "      <td>0.318357</td>\n",
       "      <td>0.290600</td>\n",
       "      <td>0.174054</td>\n",
       "    </tr>\n",
       "    <tr>\n",
       "      <th>x6</th>\n",
       "      <td>-0.075181</td>\n",
       "      <td>-0.379090</td>\n",
       "      <td>-0.366811</td>\n",
       "      <td>-0.178762</td>\n",
       "      <td>0.051519</td>\n",
       "      <td>-0.196455</td>\n",
       "      <td>1.000000</td>\n",
       "      <td>-0.738493</td>\n",
       "      <td>-0.398577</td>\n",
       "      <td>-0.273697</td>\n",
       "      <td>-0.394789</td>\n",
       "    </tr>\n",
       "    <tr>\n",
       "      <th>x7</th>\n",
       "      <td>0.203841</td>\n",
       "      <td>0.332115</td>\n",
       "      <td>0.413807</td>\n",
       "      <td>0.257650</td>\n",
       "      <td>0.542207</td>\n",
       "      <td>0.659817</td>\n",
       "      <td>-0.738493</td>\n",
       "      <td>1.000000</td>\n",
       "      <td>0.617859</td>\n",
       "      <td>0.417212</td>\n",
       "      <td>0.430453</td>\n",
       "    </tr>\n",
       "    <tr>\n",
       "      <th>x8</th>\n",
       "      <td>0.270774</td>\n",
       "      <td>0.149916</td>\n",
       "      <td>0.446157</td>\n",
       "      <td>0.393480</td>\n",
       "      <td>0.515503</td>\n",
       "      <td>0.318357</td>\n",
       "      <td>-0.398577</td>\n",
       "      <td>0.617859</td>\n",
       "      <td>1.000000</td>\n",
       "      <td>0.464669</td>\n",
       "      <td>0.565883</td>\n",
       "    </tr>\n",
       "    <tr>\n",
       "      <th>x9</th>\n",
       "      <td>0.301731</td>\n",
       "      <td>0.208133</td>\n",
       "      <td>0.388680</td>\n",
       "      <td>0.390430</td>\n",
       "      <td>0.325717</td>\n",
       "      <td>0.290600</td>\n",
       "      <td>-0.273697</td>\n",
       "      <td>0.417212</td>\n",
       "      <td>0.464669</td>\n",
       "      <td>1.000000</td>\n",
       "      <td>0.382483</td>\n",
       "    </tr>\n",
       "    <tr>\n",
       "      <th>y</th>\n",
       "      <td>0.187889</td>\n",
       "      <td>0.043062</td>\n",
       "      <td>0.586450</td>\n",
       "      <td>0.441482</td>\n",
       "      <td>0.212022</td>\n",
       "      <td>0.174054</td>\n",
       "      <td>-0.394789</td>\n",
       "      <td>0.430453</td>\n",
       "      <td>0.565883</td>\n",
       "      <td>0.382483</td>\n",
       "      <td>1.000000</td>\n",
       "    </tr>\n",
       "  </tbody>\n",
       "</table>\n",
       "</div>"
      ],
      "text/plain": [
       "          x0        x1        x2        x3        x4        x5        x6   \n",
       "x0  1.000000  0.173737  0.185085  0.335428  0.260061  0.219243 -0.075181  \\\n",
       "x1  0.173737  1.000000  0.088161  0.241010  0.035277  0.142637 -0.379090   \n",
       "x2  0.185085  0.088161  1.000000  0.395411  0.249777  0.261170 -0.366811   \n",
       "x3  0.335428  0.241010  0.395411  1.000000  0.242464  0.185548 -0.178762   \n",
       "x4  0.260061  0.035277  0.249777  0.242464  1.000000  0.896663  0.051519   \n",
       "x5  0.219243  0.142637  0.261170  0.185548  0.896663  1.000000 -0.196455   \n",
       "x6 -0.075181 -0.379090 -0.366811 -0.178762  0.051519 -0.196455  1.000000   \n",
       "x7  0.203841  0.332115  0.413807  0.257650  0.542207  0.659817 -0.738493   \n",
       "x8  0.270774  0.149916  0.446157  0.393480  0.515503  0.318357 -0.398577   \n",
       "x9  0.301731  0.208133  0.388680  0.390430  0.325717  0.290600 -0.273697   \n",
       "y   0.187889  0.043062  0.586450  0.441482  0.212022  0.174054 -0.394789   \n",
       "\n",
       "          x7        x8        x9         y  \n",
       "x0  0.203841  0.270774  0.301731  0.187889  \n",
       "x1  0.332115  0.149916  0.208133  0.043062  \n",
       "x2  0.413807  0.446157  0.388680  0.586450  \n",
       "x3  0.257650  0.393480  0.390430  0.441482  \n",
       "x4  0.542207  0.515503  0.325717  0.212022  \n",
       "x5  0.659817  0.318357  0.290600  0.174054  \n",
       "x6 -0.738493 -0.398577 -0.273697 -0.394789  \n",
       "x7  1.000000  0.617859  0.417212  0.430453  \n",
       "x8  0.617859  1.000000  0.464669  0.565883  \n",
       "x9  0.417212  0.464669  1.000000  0.382483  \n",
       "y   0.430453  0.565883  0.382483  1.000000  "
      ]
     },
     "execution_count": 124,
     "metadata": {},
     "output_type": "execute_result"
    }
   ],
   "source": [
    "df.corr()"
   ]
  },
  {
   "cell_type": "markdown",
   "id": "a7fbcb6b-f81b-43a0-8a73-f98f9451a7be",
   "metadata": {},
   "source": [
    "##### The correlation with our function\n",
    "For more visibility: Convert the result to a dataframe"
   ]
  },
  {
   "cell_type": "code",
   "execution_count": 133,
   "id": "ef0f559e-cf1b-4cdf-9a47-fe45d04159d7",
   "metadata": {},
   "outputs": [
    {
     "data": {
      "text/html": [
       "<div>\n",
       "<style scoped>\n",
       "    .dataframe tbody tr th:only-of-type {\n",
       "        vertical-align: middle;\n",
       "    }\n",
       "\n",
       "    .dataframe tbody tr th {\n",
       "        vertical-align: top;\n",
       "    }\n",
       "\n",
       "    .dataframe thead th {\n",
       "        text-align: right;\n",
       "    }\n",
       "</style>\n",
       "<table border=\"1\" class=\"dataframe\">\n",
       "  <thead>\n",
       "    <tr style=\"text-align: right;\">\n",
       "      <th></th>\n",
       "      <th>0</th>\n",
       "      <th>1</th>\n",
       "      <th>2</th>\n",
       "      <th>3</th>\n",
       "      <th>4</th>\n",
       "      <th>5</th>\n",
       "      <th>6</th>\n",
       "      <th>7</th>\n",
       "      <th>8</th>\n",
       "      <th>9</th>\n",
       "      <th>10</th>\n",
       "    </tr>\n",
       "  </thead>\n",
       "  <tbody>\n",
       "    <tr>\n",
       "      <th>0</th>\n",
       "      <td>1.000000</td>\n",
       "      <td>0.173737</td>\n",
       "      <td>0.185085</td>\n",
       "      <td>0.335428</td>\n",
       "      <td>0.260061</td>\n",
       "      <td>0.219243</td>\n",
       "      <td>-0.075181</td>\n",
       "      <td>0.203841</td>\n",
       "      <td>0.270774</td>\n",
       "      <td>0.301731</td>\n",
       "      <td>0.187889</td>\n",
       "    </tr>\n",
       "    <tr>\n",
       "      <th>1</th>\n",
       "      <td>0.173737</td>\n",
       "      <td>1.000000</td>\n",
       "      <td>0.088161</td>\n",
       "      <td>0.241010</td>\n",
       "      <td>0.035277</td>\n",
       "      <td>0.142637</td>\n",
       "      <td>-0.379090</td>\n",
       "      <td>0.332115</td>\n",
       "      <td>0.149916</td>\n",
       "      <td>0.208133</td>\n",
       "      <td>0.043062</td>\n",
       "    </tr>\n",
       "    <tr>\n",
       "      <th>2</th>\n",
       "      <td>0.185085</td>\n",
       "      <td>0.088161</td>\n",
       "      <td>1.000000</td>\n",
       "      <td>0.395411</td>\n",
       "      <td>0.249777</td>\n",
       "      <td>0.261170</td>\n",
       "      <td>-0.366811</td>\n",
       "      <td>0.413807</td>\n",
       "      <td>0.446157</td>\n",
       "      <td>0.388680</td>\n",
       "      <td>0.586450</td>\n",
       "    </tr>\n",
       "    <tr>\n",
       "      <th>3</th>\n",
       "      <td>0.335428</td>\n",
       "      <td>0.241010</td>\n",
       "      <td>0.395411</td>\n",
       "      <td>1.000000</td>\n",
       "      <td>0.242464</td>\n",
       "      <td>0.185548</td>\n",
       "      <td>-0.178762</td>\n",
       "      <td>0.257650</td>\n",
       "      <td>0.393480</td>\n",
       "      <td>0.390430</td>\n",
       "      <td>0.441482</td>\n",
       "    </tr>\n",
       "    <tr>\n",
       "      <th>4</th>\n",
       "      <td>0.260061</td>\n",
       "      <td>0.035277</td>\n",
       "      <td>0.249777</td>\n",
       "      <td>0.242464</td>\n",
       "      <td>1.000000</td>\n",
       "      <td>0.896663</td>\n",
       "      <td>0.051519</td>\n",
       "      <td>0.542207</td>\n",
       "      <td>0.515503</td>\n",
       "      <td>0.325717</td>\n",
       "      <td>0.212022</td>\n",
       "    </tr>\n",
       "    <tr>\n",
       "      <th>5</th>\n",
       "      <td>0.219243</td>\n",
       "      <td>0.142637</td>\n",
       "      <td>0.261170</td>\n",
       "      <td>0.185548</td>\n",
       "      <td>0.896663</td>\n",
       "      <td>1.000000</td>\n",
       "      <td>-0.196455</td>\n",
       "      <td>0.659817</td>\n",
       "      <td>0.318357</td>\n",
       "      <td>0.290600</td>\n",
       "      <td>0.174054</td>\n",
       "    </tr>\n",
       "    <tr>\n",
       "      <th>6</th>\n",
       "      <td>-0.075181</td>\n",
       "      <td>-0.379090</td>\n",
       "      <td>-0.366811</td>\n",
       "      <td>-0.178762</td>\n",
       "      <td>0.051519</td>\n",
       "      <td>-0.196455</td>\n",
       "      <td>1.000000</td>\n",
       "      <td>-0.738493</td>\n",
       "      <td>-0.398577</td>\n",
       "      <td>-0.273697</td>\n",
       "      <td>-0.394789</td>\n",
       "    </tr>\n",
       "    <tr>\n",
       "      <th>7</th>\n",
       "      <td>0.203841</td>\n",
       "      <td>0.332115</td>\n",
       "      <td>0.413807</td>\n",
       "      <td>0.257650</td>\n",
       "      <td>0.542207</td>\n",
       "      <td>0.659817</td>\n",
       "      <td>-0.738493</td>\n",
       "      <td>1.000000</td>\n",
       "      <td>0.617859</td>\n",
       "      <td>0.417212</td>\n",
       "      <td>0.430453</td>\n",
       "    </tr>\n",
       "    <tr>\n",
       "      <th>8</th>\n",
       "      <td>0.270774</td>\n",
       "      <td>0.149916</td>\n",
       "      <td>0.446157</td>\n",
       "      <td>0.393480</td>\n",
       "      <td>0.515503</td>\n",
       "      <td>0.318357</td>\n",
       "      <td>-0.398577</td>\n",
       "      <td>0.617859</td>\n",
       "      <td>1.000000</td>\n",
       "      <td>0.464669</td>\n",
       "      <td>0.565883</td>\n",
       "    </tr>\n",
       "    <tr>\n",
       "      <th>9</th>\n",
       "      <td>0.301731</td>\n",
       "      <td>0.208133</td>\n",
       "      <td>0.388680</td>\n",
       "      <td>0.390430</td>\n",
       "      <td>0.325717</td>\n",
       "      <td>0.290600</td>\n",
       "      <td>-0.273697</td>\n",
       "      <td>0.417212</td>\n",
       "      <td>0.464669</td>\n",
       "      <td>1.000000</td>\n",
       "      <td>0.382483</td>\n",
       "    </tr>\n",
       "    <tr>\n",
       "      <th>10</th>\n",
       "      <td>0.187889</td>\n",
       "      <td>0.043062</td>\n",
       "      <td>0.586450</td>\n",
       "      <td>0.441482</td>\n",
       "      <td>0.212022</td>\n",
       "      <td>0.174054</td>\n",
       "      <td>-0.394789</td>\n",
       "      <td>0.430453</td>\n",
       "      <td>0.565883</td>\n",
       "      <td>0.382483</td>\n",
       "      <td>1.000000</td>\n",
       "    </tr>\n",
       "  </tbody>\n",
       "</table>\n",
       "</div>"
      ],
      "text/plain": [
       "          0         1         2         3         4         5         6    \n",
       "0   1.000000  0.173737  0.185085  0.335428  0.260061  0.219243 -0.075181  \\\n",
       "1   0.173737  1.000000  0.088161  0.241010  0.035277  0.142637 -0.379090   \n",
       "2   0.185085  0.088161  1.000000  0.395411  0.249777  0.261170 -0.366811   \n",
       "3   0.335428  0.241010  0.395411  1.000000  0.242464  0.185548 -0.178762   \n",
       "4   0.260061  0.035277  0.249777  0.242464  1.000000  0.896663  0.051519   \n",
       "5   0.219243  0.142637  0.261170  0.185548  0.896663  1.000000 -0.196455   \n",
       "6  -0.075181 -0.379090 -0.366811 -0.178762  0.051519 -0.196455  1.000000   \n",
       "7   0.203841  0.332115  0.413807  0.257650  0.542207  0.659817 -0.738493   \n",
       "8   0.270774  0.149916  0.446157  0.393480  0.515503  0.318357 -0.398577   \n",
       "9   0.301731  0.208133  0.388680  0.390430  0.325717  0.290600 -0.273697   \n",
       "10  0.187889  0.043062  0.586450  0.441482  0.212022  0.174054 -0.394789   \n",
       "\n",
       "          7         8         9         10  \n",
       "0   0.203841  0.270774  0.301731  0.187889  \n",
       "1   0.332115  0.149916  0.208133  0.043062  \n",
       "2   0.413807  0.446157  0.388680  0.586450  \n",
       "3   0.257650  0.393480  0.390430  0.441482  \n",
       "4   0.542207  0.515503  0.325717  0.212022  \n",
       "5   0.659817  0.318357  0.290600  0.174054  \n",
       "6  -0.738493 -0.398577 -0.273697 -0.394789  \n",
       "7   1.000000  0.617859  0.417212  0.430453  \n",
       "8   0.617859  1.000000  0.464669  0.565883  \n",
       "9   0.417212  0.464669  1.000000  0.382483  \n",
       "10  0.430453  0.565883  0.382483  1.000000  "
      ]
     },
     "execution_count": 133,
     "metadata": {},
     "output_type": "execute_result"
    }
   ],
   "source": [
    "pd.DataFrame(corrM(df.values.T))"
   ]
  },
  {
   "cell_type": "markdown",
   "id": "8e82e170-e2fa-48ab-ae45-280ca33e3bb3",
   "metadata": {},
   "source": [
    "We find the same result"
   ]
  },
  {
   "cell_type": "markdown",
   "id": "2a5f0935-f575-40b4-bebf-40bbd980756b",
   "metadata": {},
   "source": [
    "# Conclusion <a name=\"tit6\"></a> \n",
    "In this netbook we defined the eigenvalue/vector, variance/covariance, the correlation. In the second hand we compared local function to calculate the parameters with the numpy/pandas functions and we founded the same result each time"
   ]
  }
 ],
 "metadata": {
  "kernelspec": {
   "display_name": "Python 3 (ipykernel)",
   "language": "python",
   "name": "python3"
  },
  "language_info": {
   "codemirror_mode": {
    "name": "ipython",
    "version": 3
   },
   "file_extension": ".py",
   "mimetype": "text/x-python",
   "name": "python",
   "nbconvert_exporter": "python",
   "pygments_lexer": "ipython3",
   "version": "3.10.5"
  }
 },
 "nbformat": 4,
 "nbformat_minor": 5
}
